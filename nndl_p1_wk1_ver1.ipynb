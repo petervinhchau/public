{
  "nbformat": 4,
  "nbformat_minor": 0,
  "metadata": {
    "colab": {
      "provenance": [],
      "machine_shape": "hm",
      "gpuType": "T4",
      "authorship_tag": "ABX9TyPm7nvYvK2WLn/94RujjGdO",
      "include_colab_link": true
    },
    "kernelspec": {
      "name": "python3",
      "display_name": "Python 3"
    },
    "language_info": {
      "name": "python"
    },
    "accelerator": "GPU"
  },
  "cells": [
    {
      "cell_type": "markdown",
      "metadata": {
        "id": "view-in-github",
        "colab_type": "text"
      },
      "source": [
        "<a href=\"https://colab.research.google.com/github/petervinhchau/public/blob/main/nndl_p1_wk1_ver1.ipynb\" target=\"_parent\"><img src=\"https://colab.research.google.com/assets/colab-badge.svg\" alt=\"Open In Colab\"/></a>"
      ]
    },
    {
      "cell_type": "code",
      "execution_count": 3,
      "metadata": {
        "colab": {
          "base_uri": "https://localhost:8080/"
        },
        "id": "rsBO8Btboe3c",
        "outputId": "d01dfc33-6e27-43ba-c69c-e75c1766ce49"
      },
      "outputs": [
        {
          "output_type": "stream",
          "name": "stdout",
          "text": [
            "\u001b[2K   \u001b[90m━━━━━━━━━━━━━━━━━━━━━━━━━━━━━━━━━━━━━━━━\u001b[0m \u001b[32m363.4/363.4 MB\u001b[0m \u001b[31m3.0 MB/s\u001b[0m eta \u001b[36m0:00:00\u001b[0m\n",
            "\u001b[2K   \u001b[90m━━━━━━━━━━━━━━━━━━━━━━━━━━━━━━━━━━━━━━━━\u001b[0m \u001b[32m13.8/13.8 MB\u001b[0m \u001b[31m121.7 MB/s\u001b[0m eta \u001b[36m0:00:00\u001b[0m\n",
            "\u001b[2K   \u001b[90m━━━━━━━━━━━━━━━━━━━━━━━━━━━━━━━━━━━━━━━━\u001b[0m \u001b[32m24.6/24.6 MB\u001b[0m \u001b[31m90.6 MB/s\u001b[0m eta \u001b[36m0:00:00\u001b[0m\n",
            "\u001b[2K   \u001b[90m━━━━━━━━━━━━━━━━━━━━━━━━━━━━━━━━━━━━━━━━\u001b[0m \u001b[32m883.7/883.7 kB\u001b[0m \u001b[31m54.7 MB/s\u001b[0m eta \u001b[36m0:00:00\u001b[0m\n",
            "\u001b[2K   \u001b[90m━━━━━━━━━━━━━━━━━━━━━━━━━━━━━━━━━━━━━━━━\u001b[0m \u001b[32m664.8/664.8 MB\u001b[0m \u001b[31m2.1 MB/s\u001b[0m eta \u001b[36m0:00:00\u001b[0m\n",
            "\u001b[2K   \u001b[90m━━━━━━━━━━━━━━━━━━━━━━━━━━━━━━━━━━━━━━━━\u001b[0m \u001b[32m211.5/211.5 MB\u001b[0m \u001b[31m4.5 MB/s\u001b[0m eta \u001b[36m0:00:00\u001b[0m\n",
            "\u001b[2K   \u001b[90m━━━━━━━━━━━━━━━━━━━━━━━━━━━━━━━━━━━━━━━━\u001b[0m \u001b[32m56.3/56.3 MB\u001b[0m \u001b[31m39.4 MB/s\u001b[0m eta \u001b[36m0:00:00\u001b[0m\n",
            "\u001b[2K   \u001b[90m━━━━━━━━━━━━━━━━━━━━━━━━━━━━━━━━━━━━━━━━\u001b[0m \u001b[32m127.9/127.9 MB\u001b[0m \u001b[31m17.8 MB/s\u001b[0m eta \u001b[36m0:00:00\u001b[0m\n",
            "\u001b[2K   \u001b[90m━━━━━━━━━━━━━━━━━━━━━━━━━━━━━━━━━━━━━━━━\u001b[0m \u001b[32m207.5/207.5 MB\u001b[0m \u001b[31m4.9 MB/s\u001b[0m eta \u001b[36m0:00:00\u001b[0m\n",
            "\u001b[2K   \u001b[90m━━━━━━━━━━━━━━━━━━━━━━━━━━━━━━━━━━━━━━━━\u001b[0m \u001b[32m21.1/21.1 MB\u001b[0m \u001b[31m100.3 MB/s\u001b[0m eta \u001b[36m0:00:00\u001b[0m\n",
            "\u001b[?25hPyTorch version: 2.5.1+cu124\n",
            "✅ GPU detected: Tesla T4\n"
          ]
        }
      ],
      "source": [
        "# Darren's Code: Environment Setup\n",
        "# Install necessary libraries quietly\n",
        "!pip install torch torchvision torchaudio numpy pandas matplotlib seaborn h5py --quiet\n",
        "\n",
        "# Check PyTorch version and GPU availability\n",
        "import torch\n",
        "\n",
        "print(f\"PyTorch version: {torch.__version__}\")\n",
        "\n",
        "if torch.cuda.is_available():\n",
        "    print(f\"✅ GPU detected: {torch.cuda.get_device_name(0)}\")\n",
        "else:\n",
        "    print(\"⚠️ GPU not detected. Using CPU only.\")\n"
      ]
    },
    {
      "cell_type": "code",
      "source": [
        "from google.colab import drive\n",
        "drive.mount('/content/drive')\n"
      ],
      "metadata": {
        "colab": {
          "base_uri": "https://localhost:8080/"
        },
        "id": "okr3dKf3s6Sj",
        "outputId": "bfaf1e39-5fe4-40b0-8fb8-77990054e2b1"
      },
      "execution_count": 42,
      "outputs": [
        {
          "output_type": "stream",
          "name": "stdout",
          "text": [
            "Drive already mounted at /content/drive; to attempt to forcibly remount, call drive.mount(\"/content/drive\", force_remount=True).\n"
          ]
        }
      ]
    },
    {
      "cell_type": "code",
      "source": [
        "# Alejandro's Code Block: Inspect Dataset Structure Clearly\n",
        "import h5py\n",
        "import os\n",
        "\n",
        "# Set path to your EMG data files\n",
        "DATA_DIR = \"/content/drive/MyDrive/emg_data/subject_89335547\"\n",
        "\n",
        "# Find all .hdf5 files in directory\n",
        "data_files = [os.path.join(DATA_DIR, file) for file in os.listdir(DATA_DIR) if file.endswith('.hdf5')]\n",
        "\n",
        "# Clearly print dataset structure from the first file\n",
        "with h5py.File(data_files[0], 'r') as f:\n",
        "    print(\"📂 HDF5 File Structure:\")\n",
        "    def print_structure(name, obj):\n",
        "        if isinstance(obj, h5py.Dataset):\n",
        "            print(f\" - Dataset: {name}, Fields: {obj.dtype.names}\")\n",
        "        elif isinstance(obj, h5py.Group):\n",
        "            print(f\" - Group: {name}\")\n",
        "    f.visititems(print_structure)\n"
      ],
      "metadata": {
        "colab": {
          "base_uri": "https://localhost:8080/"
        },
        "id": "byOXGe9n8ska",
        "outputId": "4885e178-cc23-450b-9826-1c3a0076eaa1"
      },
      "execution_count": 53,
      "outputs": [
        {
          "output_type": "stream",
          "name": "stdout",
          "text": [
            "📂 HDF5 File Structure:\n",
            " - Group: emg2qwerty\n",
            " - Dataset: emg2qwerty/timeseries, Fields: ('emg_right', 'time', 'emg_left')\n"
          ]
        }
      ]
    },
    {
      "cell_type": "code",
      "source": [
        "# Alejandro's Final Corrected Data Loading Code\n",
        "import h5py\n",
        "import numpy as np\n",
        "import os\n",
        "\n",
        "DATA_DIR = \"/content/drive/MyDrive/emg_data/subject_89335547\"\n",
        "data_files = [os.path.join(DATA_DIR, file) for file in os.listdir(DATA_DIR) if file.endswith('.hdf5')]\n",
        "\n",
        "print(f\"✅ Found {len(data_files)} data files.\")\n",
        "\n",
        "emg_right_list, emg_left_list, timestamps_list = [], [], []\n",
        "\n",
        "for file in data_files:\n",
        "    with h5py.File(file, 'r') as f:\n",
        "        dataset = f['emg2qwerty/timeseries']\n",
        "        emg_right_list.append(np.array(dataset['emg_right']))\n",
        "        emg_left_list.append(np.array(dataset['emg_left']))\n",
        "        timestamps_list.append(np.array(dataset['time']))\n",
        "    print(f\"✔️ Loaded file: {os.path.basename(file)}\")\n",
        "\n",
        "# Concatenate EMG data from right and left wrists separately\n",
        "emg_right = np.concatenate(emg_right_list, axis=0)\n",
        "emg_left = np.concatenate(emg_left_list, axis=0)\n",
        "timestamps = np.concatenate(timestamps_list, axis=0)\n",
        "\n",
        "# Final data shape confirmation\n",
        "print(\"\\n✅ All EMG sessions loaded and concatenated successfully.\")\n",
        "print(f\" - EMG Right data shape: {emg_right.shape}\")\n",
        "print(f\" - EMG Left data shape: {emg_left.shape}\")\n",
        "print(f\" - Timestamps shape: {timestamps.shape}\")\n"
      ],
      "metadata": {
        "colab": {
          "base_uri": "https://localhost:8080/"
        },
        "id": "6pWpzsf90OxJ",
        "outputId": "edc190c3-3c76-4469-be1f-35e9eca6a5a7"
      },
      "execution_count": 54,
      "outputs": [
        {
          "output_type": "stream",
          "name": "stdout",
          "text": [
            "✅ Found 18 data files.\n",
            "✔️ Loaded file: 2021-07-22-1627001995-keystrokes-dca-study@1-0efbe614-9ae6-4131-9192-4398359b4f5f.hdf5\n",
            "✔️ Loaded file: 2021-06-03-1622766673-keystrokes-dca-study@1-0efbe614-9ae6-4131-9192-4398359b4f5f.hdf5\n",
            "✔️ Loaded file: 2021-07-21-1626915176-keystrokes-dca-study@1-0efbe614-9ae6-4131-9192-4398359b4f5f.hdf5\n",
            "✔️ Loaded file: 2021-06-04-1622862148-keystrokes-dca-study@1-0efbe614-9ae6-4131-9192-4398359b4f5f.hdf5\n",
            "✔️ Loaded file: 2021-07-22-1627004019-keystrokes-dca-study@1-0efbe614-9ae6-4131-9192-4398359b4f5f.hdf5\n",
            "✔️ Loaded file: 2021-06-04-1622863166-keystrokes-dca-study@1-0efbe614-9ae6-4131-9192-4398359b4f5f.hdf5\n",
            "✔️ Loaded file: 2021-06-04-1622861066-keystrokes-dca-study@1-0efbe614-9ae6-4131-9192-4398359b4f5f.hdf5\n",
            "✔️ Loaded file: 2021-06-03-1622764398-keystrokes-dca-study@1-0efbe614-9ae6-4131-9192-4398359b4f5f.hdf5\n",
            "✔️ Loaded file: 2021-06-03-1622765527-keystrokes-dca-study@1-0efbe614-9ae6-4131-9192-4398359b4f5f.hdf5\n",
            "✔️ Loaded file: 2021-07-21-1626916256-keystrokes-dca-study@1-0efbe614-9ae6-4131-9192-4398359b4f5f.hdf5\n",
            "✔️ Loaded file: 2021-06-05-1622889105-keystrokes-dca-study@1-0efbe614-9ae6-4131-9192-4398359b4f5f.hdf5\n",
            "✔️ Loaded file: 2021-06-05-1622884635-keystrokes-dca-study@1-0efbe614-9ae6-4131-9192-4398359b4f5f.hdf5\n",
            "✔️ Loaded file: 2021-06-02-1622681518-keystrokes-dca-study@1-0efbe614-9ae6-4131-9192-4398359b4f5f.hdf5\n",
            "✔️ Loaded file: 2021-06-02-1622679967-keystrokes-dca-study@1-0efbe614-9ae6-4131-9192-4398359b4f5f.hdf5\n",
            "✔️ Loaded file: 2021-06-02-1622682789-keystrokes-dca-study@1-0efbe614-9ae6-4131-9192-4398359b4f5f.hdf5\n",
            "✔️ Loaded file: 2021-07-22-1627003020-keystrokes-dca-study@1-0efbe614-9ae6-4131-9192-4398359b4f5f.hdf5\n",
            "✔️ Loaded file: 2021-07-21-1626917264-keystrokes-dca-study@1-0efbe614-9ae6-4131-9192-4398359b4f5f.hdf5\n",
            "✔️ Loaded file: 2021-06-05-1622885888-keystrokes-dca-study@1-0efbe614-9ae6-4131-9192-4398359b4f5f.hdf5\n",
            "\n",
            "✅ All EMG sessions loaded and concatenated successfully.\n",
            " - EMG Right data shape: (34689251, 16)\n",
            " - EMG Left data shape: (34689251, 16)\n",
            " - Timestamps shape: (34689251,)\n"
          ]
        }
      ]
    },
    {
      "cell_type": "markdown",
      "source": [
        "✅ **Summary of Initial Observations**\n",
        "\n",
        "- All 18 EMG dataset files loaded successfully without issues.\n",
        "- **EMG Right Wrist Data Shape:** `(34,689,251 samples, 16 electrodes)`\n",
        "- **EMG Left Wrist Data Shape:** `(34,689,251 samples, 16 electrodes)`\n",
        "- **Timestamps Shape:** `(34,689,251 samples,)`\n",
        "- Data structure and dimensions precisely match the project's guidelines.\n",
        "- Data integrity is confirmed, with no immediate anomalies detected.\n",
        "\n",
        "**Next Step (Week 1):** Proceed to data preprocessing (Sriharsha) and model architecture selection (Peter).\n",
        "\n"
      ],
      "metadata": {
        "id": "xzUJyc48pRK3"
      }
    }
  ]
}
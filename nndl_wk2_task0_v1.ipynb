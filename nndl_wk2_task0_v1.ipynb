{
  "nbformat": 4,
  "nbformat_minor": 0,
  "metadata": {
    "colab": {
      "private_outputs": true,
      "provenance": [],
      "machine_shape": "hm",
      "gpuType": "T4",
      "authorship_tag": "ABX9TyOSp4x8GK7ZBQvHzcHrdpy5",
      "include_colab_link": true
    },
    "kernelspec": {
      "name": "python3",
      "display_name": "Python 3"
    },
    "language_info": {
      "name": "python"
    },
    "accelerator": "GPU"
  },
  "cells": [
    {
      "cell_type": "markdown",
      "metadata": {
        "id": "view-in-github",
        "colab_type": "text"
      },
      "source": [
        "<a href=\"https://colab.research.google.com/github/petervinhchau/public/blob/main/nndl_wk2_task0_v1.ipynb\" target=\"_parent\"><img src=\"https://colab.research.google.com/assets/colab-badge.svg\" alt=\"Open In Colab\"/></a>"
      ]
    },
    {
      "cell_type": "code",
      "execution_count": null,
      "metadata": {
        "id": "ERLRV7_sIpr0"
      },
      "outputs": [],
      "source": [
        "# Task 0: Google Drive Mounting & Environment Setup\n",
        "\n",
        "\"\"\"\n",
        "### Objective:\n",
        "Ensure proper mounting of Google Drive in Colab for seamless access to datasets and storage of checkpoints.\n",
        "Additionally, verify the environment setup, install dependencies, and check GPU availability.\n",
        "\"\"\"\n",
        "\n",
        "# Step 1: Mount Google Drive\n",
        "from google.colab import drive\n",
        "drive.mount('/content/drive')\n",
        "\n",
        "# Step 2: Verify or Create Project Directory\n",
        "import os\n",
        "\n",
        "project_dir = '/content/drive/MyDrive/emg_project/'\n",
        "if not os.path.exists(project_dir):\n",
        "    os.makedirs(project_dir)\n",
        "    print(f\"Project directory created: {project_dir}\")\n",
        "else:\n",
        "    print(f\"Project directory already exists: {project_dir}\")\n",
        "\n",
        "# Step 3: Install Required Libraries\n",
        "!pip install --quiet torch torchvision torchaudio numpy matplotlib\n",
        "\n",
        "# Step 4: Verify GPU Availability\n",
        "import torch\n",
        "\n",
        "device = 'cuda' if torch.cuda.is_available() else 'cpu'\n",
        "print(f\"Device in use: {device}\")\n",
        "\n",
        "if device == 'cuda':\n",
        "    print(\"GPU detected! Training will be faster.\")\n",
        "else:\n",
        "    print(\"No GPU detected. Training may be slower.\")\n",
        "\n",
        "# Step 5: Confirm Environment Setup\n",
        "import numpy as np\n",
        "import matplotlib.pyplot as plt\n",
        "\n",
        "print(\"All necessary libraries imported successfully. Environment is ready.\")\n"
      ]
    }
  ]
}
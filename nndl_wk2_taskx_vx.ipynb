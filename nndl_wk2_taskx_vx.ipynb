{
  "nbformat": 4,
  "nbformat_minor": 0,
  "metadata": {
    "colab": {
      "private_outputs": true,
      "provenance": [],
      "authorship_tag": "ABX9TyNfNVfjJbozBhqLoZame7tu",
      "include_colab_link": true
    },
    "kernelspec": {
      "name": "python3",
      "display_name": "Python 3"
    },
    "language_info": {
      "name": "python"
    }
  },
  "cells": [
    {
      "cell_type": "markdown",
      "metadata": {
        "id": "view-in-github",
        "colab_type": "text"
      },
      "source": [
        "<a href=\"https://colab.research.google.com/github/petervinhchau/public/blob/main/nndl_wk2_taskx_vx.ipynb\" target=\"_parent\"><img src=\"https://colab.research.google.com/assets/colab-badge.svg\" alt=\"Open In Colab\"/></a>"
      ]
    },
    {
      "cell_type": "code",
      "execution_count": null,
      "metadata": {
        "id": "dsx7uMF3OFZb"
      },
      "outputs": [],
      "source": [
        "from google.colab import drive\n",
        "drive.mount('/content/drive')\n"
      ]
    },
    {
      "cell_type": "code",
      "source": [
        "# Clone the official repository\n",
        "!git clone https://github.com/facebookresearch/emg2qwerty.git\n",
        "\n",
        "# Enter the cloned directory\n",
        "%cd emg2qwerty\n",
        "\n",
        "# Install required Python libraries\n",
        "!pip install numpy scipy matplotlib pandas seaborn h5py tqdm scikit-learn pytorch-lightning torch torchvision torchaudio\n",
        "\n",
        "# Install the local emg2qwerty package\n",
        "!pip install -e .\n"
      ],
      "metadata": {
        "id": "6Xrcb9HVOVgk"
      },
      "execution_count": null,
      "outputs": []
    },
    {
      "cell_type": "code",
      "source": [
        "!ls -lh /content/emg2qwerty\n",
        "!ls -lh /content/emg2qwerty/scripts\n"
      ],
      "metadata": {
        "id": "rHlTJ8gSObjD"
      },
      "execution_count": null,
      "outputs": []
    },
    {
      "cell_type": "code",
      "source": [
        "!mkdir -p /content/emg2qwerty/data\n",
        "!ln -sfn /content/drive/MyDrive/emg_data/subject_89335547 /content/emg2qwerty/data/subject_89335547\n"
      ],
      "metadata": {
        "id": "BI_jncU2PSsT"
      },
      "execution_count": null,
      "outputs": []
    },
    {
      "cell_type": "code",
      "source": [
        "!cp /content/drive/MyDrive/emg_data/metadata.csv /content/emg2qwerty/data/metadata.csv\n"
      ],
      "metadata": {
        "id": "fHpMWEsbPcZY"
      },
      "execution_count": null,
      "outputs": []
    },
    {
      "cell_type": "code",
      "source": [
        "!ls -lh /content/emg2qwerty/data\n",
        "!head /content/emg2qwerty/data/metadata.csv\n"
      ],
      "metadata": {
        "id": "grCs6nqsP4Kr"
      },
      "execution_count": null,
      "outputs": []
    },
    {
      "cell_type": "code",
      "source": [
        "import h5py\n",
        "\n",
        "file_path = \"/content/emg2qwerty/data/subject_89335547/2021-06-02-1622679967-keystrokes-dca-study@1-0efbe614-9ae6-4131-9192-4398359b4f5f.hdf5\"\n",
        "\n",
        "def print_structure(name, obj):\n",
        "    print(f\"{name}: {type(obj)}\")\n",
        "\n",
        "with h5py.File(file_path, \"r\") as f:\n",
        "    f.visititems(lambda name, obj: print(f\"{name}: {type(obj)}, shape={obj.shape if isinstance(obj, h5py.Dataset) else ''}\"))\n"
      ],
      "metadata": {
        "id": "uUH9uQ1sQDCD"
      },
      "execution_count": null,
      "outputs": []
    },
    {
      "cell_type": "code",
      "source": [
        "import pandas as pd\n",
        "df = pd.read_csv('/content/emg2qwerty/data/metadata.csv')\n",
        "print(df.head())\n"
      ],
      "metadata": {
        "id": "8Dc090AjQLuP"
      },
      "execution_count": null,
      "outputs": []
    },
    {
      "cell_type": "code",
      "source": [
        "!python scripts/generate_splits.py\n"
      ],
      "metadata": {
        "id": "b_eyB_u-QRTa"
      },
      "execution_count": null,
      "outputs": []
    },
    {
      "cell_type": "code",
      "source": [
        "!ls -lh /content/emg2qwerty/data\n"
      ],
      "metadata": {
        "id": "G0wULVF6QVQU"
      },
      "execution_count": null,
      "outputs": []
    },
    {
      "cell_type": "code",
      "source": [
        "!python -m emg2qwerty.train \\\n",
        "  user=generic \\\n",
        "  trainer.accelerator=gpu trainer.devices=1 \\\n",
        "  --multirun"
      ],
      "metadata": {
        "id": "pGLpDMtrQY9C"
      },
      "execution_count": null,
      "outputs": []
    },
    {
      "cell_type": "code",
      "source": [
        "!pip install hydra-core --upgrade\n"
      ],
      "metadata": {
        "id": "agbxeUnPRVaX"
      },
      "execution_count": null,
      "outputs": []
    },
    {
      "cell_type": "code",
      "source": [
        "import hydra\n",
        "print(hydra.__version__)\n"
      ],
      "metadata": {
        "id": "a44wCDC3RbMO"
      },
      "execution_count": null,
      "outputs": []
    },
    {
      "cell_type": "code",
      "source": [
        "!python -m emg2qwerty.train \\\n",
        "  user=generic \\\n",
        "  trainer.accelerator=gpu trainer.devices=1 \\\n",
        "  --multirun\n"
      ],
      "metadata": {
        "id": "EEQ2udqMRfqJ"
      },
      "execution_count": null,
      "outputs": []
    },
    {
      "cell_type": "code",
      "source": [
        "!pip install hydra-submitit-launcher\n"
      ],
      "metadata": {
        "id": "Bilotd_PRxuT"
      },
      "execution_count": null,
      "outputs": []
    },
    {
      "cell_type": "code",
      "source": [
        "import hydra\n",
        "import submitit\n",
        "print(hydra.__version__, submitit.__version__)\n"
      ],
      "metadata": {
        "id": "7KxqZas8R0-6"
      },
      "execution_count": null,
      "outputs": []
    },
    {
      "cell_type": "code",
      "source": [
        "!python -m emg2qwerty.train \\\n",
        "  user=generic \\\n",
        "  trainer.accelerator=gpu trainer.devices=1 \\\n",
        "  --multirun\n"
      ],
      "metadata": {
        "id": "hKYMVpgAR4X_"
      },
      "execution_count": null,
      "outputs": []
    },
    {
      "cell_type": "code",
      "source": [
        "!pwd\n",
        "!ls -lh\n"
      ],
      "metadata": {
        "id": "IIg40NdtSSA4"
      },
      "execution_count": null,
      "outputs": []
    },
    {
      "cell_type": "code",
      "source": [
        "%cd /content/emg2qwerty\n"
      ],
      "metadata": {
        "id": "LuOw2JD7SZid"
      },
      "execution_count": null,
      "outputs": []
    },
    {
      "cell_type": "code",
      "source": [
        "!pip install hydra-core hydra-submitit-launcher hydra-core submitit\n"
      ],
      "metadata": {
        "id": "W8KaUl-hSdL6"
      },
      "execution_count": null,
      "outputs": []
    },
    {
      "cell_type": "code",
      "source": [
        "import hydra\n",
        "import submitit\n",
        "print(hydra.__version__, submitit.__version__)\n"
      ],
      "metadata": {
        "id": "JlESum0qSfzP"
      },
      "execution_count": null,
      "outputs": []
    },
    {
      "cell_type": "code",
      "source": [
        "pip install -e .\n"
      ],
      "metadata": {
        "id": "hS_WKh-DSkoi"
      },
      "execution_count": null,
      "outputs": []
    },
    {
      "cell_type": "code",
      "source": [
        "!ls /content/emg2qwerty/emg2qwerty\n"
      ],
      "metadata": {
        "id": "9NsZfA9cSrMq"
      },
      "execution_count": null,
      "outputs": []
    },
    {
      "cell_type": "code",
      "source": [
        "!python -m emg2qwerty.train \\\n",
        "  user=generic \\\n",
        "  trainer.accelerator=gpu trainer.devices=1\n"
      ],
      "metadata": {
        "id": "q0KCc-HKSxoe"
      },
      "execution_count": null,
      "outputs": []
    }
  ]
}